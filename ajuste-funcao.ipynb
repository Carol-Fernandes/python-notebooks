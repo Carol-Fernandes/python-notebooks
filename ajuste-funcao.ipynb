{
 "metadata": {
  "name": ""
 },
 "nbformat": 3,
 "nbformat_minor": 0,
 "worksheets": [
  {
   "cells": [
    {
     "cell_type": "heading",
     "level": 1,
     "metadata": {},
     "source": [
      "Ajuste de fun\u00e7\u00f5es"
     ]
    },
    {
     "cell_type": "markdown",
     "metadata": {},
     "source": [
      "Uma das principais tarefas de um cientista consiste em comparar dados experimentais (ou observacionais no caso da astrof\u00edsica) com modelos desenvolvidos por te\u00f3ricos. Os modelos em geral consistem de equa\u00e7\u00f5es matem\u00e1ticas que pretendem prever algum aspecto de um fenomeno. Precisamos ent\u00e3o desenvolver ferramentas que nos ajudem a decidir sobre qu\u00e3o bem um modelo explica um dado conjunto de dados experimentais.\n",
      "\n",
      "Em muitos casos em um conjunto de dados, a incerteza \u00e9 diferente para diferentes pontos. Nesses casos, n\u00f3s gostar\u00edamos de ponderar os dados que tem menor incerteza mais fortemente do que aqueles dados que t\u00eam maior incerteza. Para este caso existe um m\u00e9todo padr\u00e3o de pondera\u00e7\u00e3o apropriado que \u00e9 conhecido como $\\chi^2$ (ou qui-quadrado). Neste m\u00e9todo sup\u00f5e-se que associada a cada ponto $(x_{i},y_{i})$ dos dados h\u00e1 uma incerteza no valor de $Y_{i}$ de $\\pm \\sigma_{i}$. Neste caso, o \"melhor ajuste\" \u00e9 definido como o conjunto de par\u00e2metros de ajuste que minimiza a soma:\n",
      "\n",
      "$\\chi^2 = \\sum_{i} \\left(\\frac{y_{i} - f(x_{i})} {\\sigma_{i}}\\right)^2 $\n",
      "\n",
      "Veja no link https://pt.wikipedia.org/wiki/Chi-quadrado mais detalhes sobre esse crit\u00e9rio.\n",
      "\n",
      "O m\u00e9todo acima para ajuste de fun\u00e7\u00f5es pode ser usado somente se a fun\u00e7\u00e3o pode ser transformada em uma fun\u00e7\u00e3o linear nos par\u00e2metros de ajuste a, b, c ... Quando temos uma fun\u00e7\u00e3o de ajuste n\u00e3o-linear que n\u00e3o pode ser transformada numa forma linear, aplica-se uma outra abordagem.\n",
      "\n",
      "O problema de encontrar os valores de par\u00e2metros de ajuste que minimizam $\\chi^2$ \u00e9 um problema de optimiza\u00e7\u00e3o n\u00e3o linear para o qual n\u00e3o existe geralmente nenhuma solu\u00e7\u00e3o anal\u00edtica (em contraste com o problema de optimiza\u00e7\u00e3o linear). Podemos ganhar alguns insights sobre este problema de otimiza\u00e7\u00e3o n\u00e3o-linear, ou seja, determina\u00e7\u00e3o de uma fun\u00e7\u00e3o n\u00e3o-linear adequada para um conjunto de dados, considerando-se uma fun\u00e7\u00e3o de ajuste com apenas dois par\u00e2metros. Ou seja, estamos tentando ajustar algum conjunto de dados $\\{x_{i}, y_{i}\\}$, com incertezas em $\\{y_{i}\\}$ de $\\{\\sigma_{i}\\}$, usando uma fun\u00e7\u00e3o $f(x, a, b)$ em que a e b s\u00e3o os dois par\u00e2metros de ajuste. Para fazer isso, precisamos achar o m\u00ednimo em:\n",
      "\n",
      "$\\chi^2 (a, b) = \\sum_{i} \\left( \\frac{y_{i}-f(x_{i})} {\\sigma_{i}} \\right)^2 $ ;.\n",
      "\n",
      "Note-se que uma vez que o conjunto de dados, incertezas, e a fun\u00e7\u00e3o de montagem s\u00e3o especificadas, $\\chi^2(a, b)$ \u00e9 simplesmente uma fun\u00e7\u00e3o de a e b. Podemos imaginar essa fun\u00e7\u00e3o com uma paisagem com picos e vales: como n\u00f3s variamos a e b, $\\chi^2(a, b)$ sobe e desce. A id\u00e9ia b\u00e1sica de todas as rotinas de ajuste n\u00e3o-linear \u00e9 come\u00e7ar com algumas estimativas iniciais para os par\u00e2metros de ajuste, aqui a e b, e posteriormente explorar paisagem de $\\chi^2(a, b)$, tentando encontrar os valores de a e b que a minimizam.\n",
      "\n",
      "H\u00e1 uma s\u00e9rie de m\u00e9todos diferentes para tentar encontrar o m\u00ednimo em $\\chi^2(a, b)$ para problemas de ajuste n\u00e3o-linear. No entanto, o m\u00e9todo que \u00e9 mais amplamente utilizado chama-se m\u00e9todo de Levenberg-Marquardt. Na verdade, o m\u00e9todo de Levenberg-Marquardt \u00e9 uma combina\u00e7\u00e3o de dois outros m\u00e9todos, o m\u00e9todo de busca de gradientes (ou inclina\u00e7\u00e3o) e extrapola\u00e7\u00e3o parab\u00f3lica. Grosso modo, quando os valores de a e b n\u00e3o est\u00e3o muito perto dos seus valores ideais, o m\u00e9todo de gradiente descendente, determina em que direc\u00e7\u00e3o no espa\u00e7o (a, b) a fun\u00e7\u00e3o $\\chi^2(a, b)$ diminui mais rapidamente, dire\u00e7\u00e3o de descida mais \u00edngreme e, em seguida, muda a e b para se mover nessa dire\u00e7\u00e3o. Este m\u00e9todo \u00e9 muito eficiente, a menos que a e b sejam muito pr\u00f3ximos dos seus valores \u00f3timos. Perto os valores \u00f3timos de a e b, a extrapola\u00e7\u00e3o parab\u00f3lica \u00e9 mais eficiente. Portanto, o m\u00e9todo de Levenberg-Marquardt altera-se gradualmente para o m\u00e9todo de extrapola\u00e7\u00e3o parab\u00f3lico, que aproxima o $\\chi^2(a, b)$ por uma s\u00e9rie de Taylor de segunda ordem em a e b e, em seguida, calcula diretamente o valor anal\u00edtico do m\u00ednimo da s\u00e9rie de aproxima\u00e7\u00e3o. Este m\u00e9todo s\u00f3 \u00e9 bom se a s\u00e9rie de Taylor de segunda ordem fornece uma boa aproxima\u00e7\u00e3o do $\\chi^2(a, b)$. \u00c9 por isso que a extrapola\u00e7\u00e3o s\u00f3 funciona bem muito pr\u00f3xima do m\u00ednimo em $\\chi^2(a, b)$.\n",
      "\n",
      "Fazemos uma importante observa\u00e7\u00e3o cautelar: o m\u00e9todo de Levenberg-Marquardt pode falhar se as estimativas iniciais dos par\u00e2metros de ajuste est\u00e3o muito longe da solu\u00e7\u00e3o desejada. Este problema torna-se mais grave quanto maior for o n\u00famero de par\u00e2metros de ajuste. Assim, \u00e9 importante para fornecer estimativas iniciais razo\u00e1veis para os par\u00e2metros de ajuste. Normalmente, este n\u00e3o \u00e9 um problema, como \u00e9 evidente a partir da situa\u00e7\u00e3o f\u00edsica de uma experi\u00eancia particular que os valores razo\u00e1veis dos par\u00e2metros de ajuste s\u00e3o. Mas cuidado!\n",
      "\n",
      "O m\u00f3dulo scipy.optimize (manual e documenta\u00e7\u00e3o aqui: http://docs.scipy.org/doc/scipy/reference/optimize.html) fornece rotinas que implementam o m\u00e9todo de ajuste n\u00e3o-linear de Levenberg-Marquardt. Um \u00e9 chamado scipy.optimize.leastsq. Uma vers\u00e3o um pouco mais f\u00e1cil de usar do mesmo m\u00e9todo \u00e9 acessado atrav\u00e9s de uma outra rotina no mesmo m\u00f3dulo scipy.optimize: ele \u00e9 chamado scipy.optimize.curve_fit e \u00e9 aquele que mostraremos aqui."
     ]
    },
    {
     "cell_type": "code",
     "collapsed": false,
     "input": [
      "import numpy as np\n",
      "from scipy.optimize import curve_fit\n",
      "%matplotlib inline \n",
      "import matplotlib\n",
      "import matplotlib.pyplot as plt\n",
      "\n",
      "#definindo a fun\u00e7\u00e3o ou modelo a ser ajustado\n",
      "def func(x, a, b, c):\n",
      "    return a * np.exp(-b * x) + c\n",
      "\n",
      "#simulando um conjunto de dados\n",
      "xdata = np.linspace(0, 4, 50)\n",
      "y = func(xdata, 2.5, 1.3, 0.5)\n",
      "ydata = y + 0.2 * np.random.normal(size=len(xdata))\n",
      "\n",
      "#fazendo o ajuste\n",
      "popt, pcov = curve_fit(func, xdata, ydata)\n",
      "\n",
      "plt.plot(xdata, ydata,'ro')\n",
      "plt.plot(xdata, func(xdata,popt[0],popt[1],popt[2]))\n",
      "plt.title('Um ajuste simples')\n",
      "plt.show()"
     ],
     "language": "python",
     "metadata": {},
     "outputs": [
      {
       "metadata": {},
       "output_type": "display_data",
       "png": "[encoded data removed]",
       "text": [
        "<matplotlib.figure.Figure at 0x7f44935c42d0>"
       ]
      }
     ],
     "prompt_number": 11
    },
    {
     "cell_type": "heading",
     "level": 1,
     "metadata": {},
     "source": [
      "Exerc\u00edcios"
     ]
    },
    {
     "cell_type": "markdown",
     "metadata": {},
     "source": [
      "1 - Pequenas nanopart\u00edculas de fuligem em suspens\u00e3o em \u00e1gua come\u00e7am a agregar quando o sal \u00e9 adicionado. O raio r m\u00e9dio dos agregados deve crescer como uma lei de pot\u00eancia no tempo t de acordo com a equa\u00e7\u00e3o $R = r_0t^N$. Tomando o logaritmo desta equa\u00e7\u00e3o obtemos $ln(r) = n*ln(t) + ln(r_0)$. Com essa transforma\u00e7\u00e3o, os dados devem cair em uma linha reta se $ln(r)$ \u00e9 plotado vs $ln(t)$.\n",
      "\n",
      "a) Criar um arquivo texto com os dados abaixo, importa-lo no notebook e plotar os dados em um gr\u00e1fico de $ln(r)$ vs $ln (t)$ para ver se os dados caem aproximadamente em uma linha reta.\n",
      "\n",
      "<pre>\n",
      "Size of growing aggregate\n",
      "Date: 19-Nov-2013\n",
      "Data taken by M. D. Gryart and M. L. Waites\n",
      "time (m)   size (nm)    error (nm)\n",
      "  0.12        115         10\n",
      "  0.18        130         12\n",
      "  0.42        202         14\n",
      "  0.90        335         18\n",
      "  2.10        510         20\n",
      "  6.00        890         30\n",
      " 18.00       1700         40\n",
      " 42.00       2600         50\n",
      "</pre>\n",
      "\n",
      "b) Definindo $y = \\ ln (r)$ e $x = \\ ln (t)$, escreva uma rotina de ajuste linear para ajustar os dados e encontrar os valores ideais para os parametros do modelo $y(t)$, bem como as suas incertezas. Use esses valores ajustados para encontrar os valores ideais de $r_0$ (a amplitude) e a potencia $N$ na fun\u00e7\u00e3o de ajuste $R = r_0t^N$. Quais s\u00e3o os valores ajustados de $r_0$ e $N$? Qual \u00e9 o valor de $\\chi_r ^ 2$? Ser\u00e1 que uma lei de pot\u00eancia \u00e9 um modelo adequado para os dados?\n",
      "\n",
      "\n",
      "\n"
     ]
    },
    {
     "cell_type": "markdown",
     "metadata": {},
     "source": [
      "2 - Neste problema voc\u00ea criar uma rotina de ajuste de m\u00ednimos quadrados n\u00e3o-linear para ajustar os dados que, incluindo as incertezas nos valores de y, s\u00e3o fornecidos na tabela abaixo. Sua tarefa \u00e9 ajustar a fun\u00e7\u00e3o\n",
      "\n",
      " $d (t) = A (1 + B \\, \\cos \\omega t) e ^ {- t ^ 2/2 \\tau ^ 2} + C$\n",
      "\n",
      "aos dados, onde os par\u00e2metros de ajuste s\u00e3o A, B, C, $\\omega$, e $\\tau$.\n",
      "\n",
      "Escrever um programa Python que  \n",
      "(i) l\u00ea os dados a partir de um arquivo,    \n",
      "(ii) define uma fun\u00e7\u00e3o oscDecay(T, A, B, C, $\\tau$, $\\omega$) com a fun\u00e7\u00e3o de $d (T)$ acima, e   \n",
      "(iii) produzir um gr\u00e1fico dos dados e a fun\u00e7\u00e3o $d (t)$ ajustada.   \n",
      "\n",
      "a) Escolha a par\u00e2metros de ajuste A, B, C, tau, e omega para produzir um ajuste aproximado \"a olho\" aos dados. Voc\u00ea deve ser capaz estimar valores razo\u00e1veis para esses par\u00e2metros s\u00f3 de olhar para os dados e pensando sobre o comportamento de d (t). Por exemplo, $d (0) = A (1 + B) + C$ enquanto $d (\\infty) = C$. Qual o par\u00e2metro  em $d(t)$ controla o per\u00edodo dos picos observados nos dados? Use essas informa\u00e7\u00f5es para estimar o valor desse par\u00e2metro.\n",
      "\n",
      "b) Escrever um programa usando a fun\u00e7\u00e3o scipy.optimize.curve_fit para ajustar os dados e, assim, encontrar os valores ideais dos par\u00e2metros de ajuste A, B, C, $\\omega$, e $\\tau$. Seu programa deve plotar os dados juntamente com a fun\u00e7\u00e3o ajustada usando os valores dos par\u00e2metros ajustados. Escreva uma fun\u00e7\u00e3o para calcular o $\\chi^2$ reduzido. Imprima o valor do $\\chi^2$ reduzido  juntamente com os valores ideais dos par\u00e2metros de ajuste. Voc\u00ea pode usar os resultados da parte (a) para estimar bons valores iniciais dos par\u00e2metros de ajuste.\n",
      "\n",
      "c) Depois de ter encontrado os par\u00e2metros de ajuste ideais, execute o seu programa novamente usando como valores iniciais os valores ideais dos par\u00e2metros A, B, C, e $\\tau$, mas definindo o valor inicial de $\\omega$ como 3 vezes o seu valor ideal . Voc\u00ea deve achar que o programa converge para um conjunto diferente de par\u00e2metros de ajuste do que aqueles encontrados na parte (b). Fa\u00e7a um gr\u00e1fico mostrando os dois ajustes. O segundo ajuste deve ser visivelmente pior. Qual \u00e9 o valor do $\\chi^2$ reduzido  para este ajuste? OBS: ele deve ser muito maior do que o que voc\u00ea encontrou para a parte (b). Explique.\n",
      "\n",
      "\n",
      "<pre>Data for absorption spectrum\n",
      "Date: 21-Nov-2012\n",
      "Data taken by P. Dubson and M. Sparks\n",
      "time (ms)  signal  uncertainty\n",
      "  0.2      41.1       0.9\n",
      "  1.4      37.2       0.9\n",
      "  2.7      28.3       0.9\n",
      "  3.9      24.8       1.1\n",
      "  5.1      27.8       0.8\n",
      "  6.4      34.5       0.7\n",
      "  7.6      39.0       0.9\n",
      "  8.8      37.7       0.8\n",
      " 10.1      29.8       0.9\n",
      " 11.3      22.2       0.7\n",
      " 12.5      22.3       0.6\n",
      " 13.8      26.7       1.1\n",
      " 15.0      30.4       0.7\n",
      " 16.2      32.6       0.8\n",
      " 17.5      28.9       0.8\n",
      " 18.7      22.9       1.3\n",
      " 19.9      21.7       0.9\n",
      " 21.1      22.1       1.0\n",
      " 22.4      22.3       1.0\n",
      " 23.6      26.3       1.0\n",
      " 24.8      26.2       0.8\n",
      " 26.1      21.4       0.9\n",
      " 27.3      20.0       1.0\n",
      " 28.5      20.1       1.2\n",
      " 29.8      21.2       0.5\n",
      " 31.0      22.0       0.9\n",
      " 32.2      21.6       0.7\n",
      " 33.5      21.0       0.7\n",
      " 34.7      19.7       0.9\n",
      " 35.9      17.9       0.9\n",
      " 37.2      18.1       0.8\n",
      " 38.4      18.9       1.1\n",
      " </pre>\n",
      " "
     ]
    },
    {
     "cell_type": "markdown",
     "metadata": {},
     "source": [
      "OBS: Atividades baseadas no curso http://www.physics.nyu.edu/pine/pymanual/html/chap8/chap8_fitting.html"
     ]
    },
    {
     "cell_type": "code",
     "collapsed": false,
     "input": [],
     "language": "python",
     "metadata": {},
     "outputs": []
    }
   ],
   "metadata": {}
  }
 ]
}