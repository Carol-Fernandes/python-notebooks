{
 "cells": [
  {
   "cell_type": "markdown",
   "metadata": {},
   "source": [
    "# Acurácia e velocidade\n",
    "\n",
    "Agora já temos os componentes básicos da linguagem Python para poder atacar os problemas de física\n",
    "\n",
    "no entanto, precisamos explorar ainda as limitações do computador visto que não pode guardar números com precisão infinita\n",
    "\n",
    "existe um limite superior e inferior ao que se pode guardar e também de velocidade em que operações podem ser efetuadas\n",
    "\n",
    "## variáveis e intervalos\n",
    "\n",
    "o maior numero float que pode ser armazenado é em módulo $10^{308}$\n",
    "\n",
    "o mesmo vale para numeros imaginários\n",
    "\n",
    "usualmente escrevemos os numeros de ponto flutuante grandes com notação científica na forma : 3.14e10 o que equivale a $3.14 \\times 10^{10}$\n",
    "\n",
    "caso uma operação gere um numero maior que o máximo aceito pelo computador o valor **inf** será alocado e em geral o programa não é interrompido."
   ]
  },
  {
   "cell_type": "code",
   "execution_count": 4,
   "metadata": {
    "collapsed": false
   },
   "outputs": [
    {
     "name": "stdout",
     "output_type": "stream",
     "text": [
      "inf\n"
     ]
    }
   ],
   "source": [
    "x = 1.e308\n",
    "y = x * 10.\n",
    "print y"
   ]
  },
  {
   "cell_type": "markdown",
   "metadata": {},
   "source": [
    "em Python inteiros podem ter tantos algarismos quanto a memória do computador permitir"
   ]
  },
  {
   "cell_type": "code",
   "execution_count": 6,
   "metadata": {
    "collapsed": false
   },
   "outputs": [
    {
     "name": "stdout",
     "output_type": "stream",
     "text": [
      "788657867364790503552363213932185062295135977687173263294742533244359449963403342920304284011984623904177212138919638830257642790242637105061926624952829931113462857270763317237396988943922445621451664240254033291864131227428294853277524242407573903240321257405579568660226031904170324062351700858796178922222789623703897374720000000000000000000000000000000000000000000000000\n"
     ]
    }
   ],
   "source": [
    "factorial = 1\n",
    "for k in range(1,201):\n",
    "    factorial *= k\n",
    "print factorial"
   ]
  },
  {
   "cell_type": "code",
   "execution_count": 7,
   "metadata": {
    "collapsed": false
   },
   "outputs": [
    {
     "name": "stdout",
     "output_type": "stream",
     "text": [
      "inf\n"
     ]
    }
   ],
   "source": [
    "factorial = 1.0\n",
    "for k in range(1,201):\n",
    "    factorial *= k\n",
    "print factorial"
   ]
  },
  {
   "cell_type": "markdown",
   "metadata": {},
   "source": [
    "## Erro numérico\n",
    "\n",
    "números de ponto flutuante só podem ser representados com uma certa precisão\n",
    "\n",
    "Em Python o padrão de representação é de 16 algarismos significativos\n",
    "\n",
    "Veja o caso de $\\pi$:\n",
    "\n",
    "valor verdadeiro: 3.1415926535897932384626 . . .  \n",
    "valor no Python:  3.141592653589793  \n",
    "diferença:        0.0000000000000002384626 . . .  \n",
    "\n",
    "\n",
    "\n"
   ]
  },
  {
   "cell_type": "code",
   "execution_count": 14,
   "metadata": {
    "collapsed": false
   },
   "outputs": [
    {
     "name": "stdout",
     "output_type": "stream",
     "text": [
      "3.14159265359\n",
      "3.14159265359\n"
     ]
    },
    {
     "data": {
      "text/plain": [
       "3.141592653589793"
      ]
     },
     "execution_count": 14,
     "metadata": {},
     "output_type": "execute_result"
    }
   ],
   "source": [
    "import numpy as np\n",
    "import math as math\n",
    "\n",
    "print np.pi \n",
    "print math.pi\n",
    "\n",
    "np.pi"
   ]
  },
  {
   "cell_type": "markdown",
   "metadata": {},
   "source": [
    "Uma lição importante é que floats não devem ser usados na avaliação de igualdades\n",
    "\n",
    "veja abaixo:"
   ]
  },
  {
   "cell_type": "code",
   "execution_count": 26,
   "metadata": {
    "collapsed": false
   },
   "outputs": [
    {
     "name": "stdout",
     "output_type": "stream",
     "text": [
      "3.30000000000000026645e+00\n"
     ]
    }
   ],
   "source": [
    "x = 1.1+2.2\n",
    "\n",
    "print \"%10.20e\"% x\n",
    "\n",
    "if x == 3.3:\n",
    "    print \"o valor é:\", x\n",
    "    \n",
    "    "
   ]
  },
  {
   "cell_type": "code",
   "execution_count": 27,
   "metadata": {
    "collapsed": false
   },
   "outputs": [
    {
     "name": "stdout",
     "output_type": "stream",
     "text": [
      "o valor é: 3.3\n"
     ]
    }
   ],
   "source": [
    "# a melhor maneira de testar igualdade de floats, caso seja necessária seria:\n",
    "\n",
    "x = 1.1+2.2\n",
    "\n",
    "epsilon = 1e-12\n",
    "if abs(x-3.3)<epsilon:\n",
    "    print \"o valor é:\", x\n"
   ]
  },
  {
   "cell_type": "markdown",
   "metadata": {},
   "source": [
    "As mesmas regras de propagação de erros são válidas no tratamento de erros no computador\n",
    "\n",
    "pode-se mostrar que o erro de uma soma de N números é dada por:\n",
    "\n",
    "$\\sigma = C\\sqrt{N}\\sqrt{\\bar{x}^2}$\n",
    "\n",
    "Veja que o erro cresce com o numero de termos somados (para mais detalhes veja: http://www.umich.edu/~mejn/cp/chapters/errors.pdf)\n",
    "\n"
   ]
  },
  {
   "cell_type": "code",
   "execution_count": 35,
   "metadata": {
    "collapsed": false
   },
   "outputs": [
    {
     "name": "stdout",
     "output_type": "stream",
     "text": [
      "1000000000000000.00000000000000000000 \n",
      "1000000000000001.25000000000000000000 \n",
      "1.25000000000000000000\n",
      "-0.0125000091125\n"
     ]
    }
   ],
   "source": [
    "# o caso abaixo mostra uma situação onde o erro relativo é bem grande\n",
    "x = 1000000000000000\n",
    "y = 1000000000000001.2345678901234\n",
    "\n",
    "\n",
    "print \"%10.20f\"% x, '\\n',\"%10.20f\"% y,'\\n',\"%10.20f\"% (y-x)\n",
    "print (1.2345678901234 - (y-x) ) / 1.2345678901234\n"
   ]
  },
  {
   "cell_type": "code",
   "execution_count": 36,
   "metadata": {
    "collapsed": false
   },
   "outputs": [
    {
     "name": "stdout",
     "output_type": "stream",
     "text": [
      "1.42108547152\n",
      "1.41421356237\n"
     ]
    }
   ],
   "source": [
    "# outro exemplo envolvendo subtração de numeros\n",
    "from math import sqrt\n",
    "x = 1.0\n",
    "y = 1.0 + (1e-14)*sqrt(2)\n",
    "print((1e14)*(y-x))\n",
    "print(sqrt(2))\n"
   ]
  },
  {
   "cell_type": "markdown",
   "metadata": {},
   "source": [
    "problemas de erros ao subtrair numeros muito próximos podem ocorrer em cálculos de física e devemos ficar atentos a eles"
   ]
  },
  {
   "cell_type": "markdown",
   "metadata": {},
   "source": [
    "## velocidade\n",
    "\n",
    "é interessante ter uma noção sobre os limites de velocidade de computação \n",
    "\n",
    "esses aspectos podem ser importantes na tomada de decisões de programação\n",
    "\n",
    "#### Exemplo\n",
    "\n",
    "O oscilador harmonico simples quantico tem niveis de energia dado por:\n",
    "\n",
    "$\\left\\langle E\\right\\rangle =\\dfrac {1} {z}\\displaystyle\\sum _{n=0}^{\\infty }E_{n}e^{-\\beta E_{n}}$\n",
    "\n",
    "onde $\\beta =1 / k_{B}T$ com $K_B$ a constante de Boltzmann e $Z=\\displaystyle\\sum _{n=0}^{\\infty }e^{-\\beta E_{n}}$\n",
    "\n",
    "Suponha que se queira calcular o valor de $\\left\\langle E\\right\\rangle$ quando $k_{B}T = 100$ \n",
    "\n",
    "Usando unidades de $\\hbar =\\omega =1$ temos o programa abaixo:"
   ]
  },
  {
   "cell_type": "code",
   "execution_count": 40,
   "metadata": {
    "collapsed": false
   },
   "outputs": [
    {
     "name": "stdout",
     "output_type": "stream",
     "text": [
      "99.9554313409\n",
      "tempo de execução de 0.0013279914856 secundos\n"
     ]
    }
   ],
   "source": [
    "from math import exp\n",
    "import time\n",
    "\n",
    "# para obter o tempo de execução\n",
    "start_time = time.time()\n",
    "\n",
    "# variáveis definidas no início para clareza\n",
    "\n",
    "terms = 1000 # número de termos a serem usados na soma\n",
    "\n",
    "beta = 1/100.\n",
    "S = 0.0\n",
    "Z = 0.0\n",
    "\n",
    "# note o uso de um looping para calculo das duas somas e o exponencial calculado uma só vez\n",
    "for n in range(terms):\n",
    "    E = n + 0.5\n",
    "    weight = exp(-beta*E)\n",
    "    S += weight*E\n",
    "    Z += weight\n",
    "print(S/Z)\n",
    "\n",
    "print(\"tempo de execução de %s secundos\" % (time.time() - start_time))"
   ]
  },
  {
   "cell_type": "code",
   "execution_count": 42,
   "metadata": {
    "collapsed": false
   },
   "outputs": [
    {
     "name": "stdout",
     "output_type": "stream",
     "text": [
      "100.000833332\n",
      "tempo de execução de 0.599543809891 secundos\n"
     ]
    }
   ],
   "source": [
    "from math import exp\n",
    "import time\n",
    "\n",
    "# para obter o tempo de execução\n",
    "start_time = time.time()\n",
    "\n",
    "# variáveis definidas no início para clareza\n",
    "\n",
    "terms = 1000*1000 # número de termos a serem usados na soma\n",
    "\n",
    "beta = 1/100.\n",
    "S = 0.0\n",
    "Z = 0.0\n",
    "\n",
    "# note o uso de um looping para calculo das duas somas e o exponencial calculado uma só vez\n",
    "for n in range(terms):\n",
    "    E = n + 0.5\n",
    "    weight = exp(-beta*E)\n",
    "    S += weight*E\n",
    "    Z += weight\n",
    "print(S/Z)\n",
    "\n",
    "print(\"tempo de execução de %s secundos\" % (time.time() - start_time))"
   ]
  },
  {
   "cell_type": "code",
   "execution_count": 2,
   "metadata": {
    "collapsed": false
   },
   "outputs": [
    {
     "name": "stdout",
     "output_type": "stream",
     "text": [
      "100.000833332\n",
      "tempo de execução de 59.4011518955 secundos\n"
     ]
    }
   ],
   "source": [
    "from math import exp\n",
    "import time\n",
    "\n",
    "# para obter o tempo de execução\n",
    "start_time = time.time()\n",
    "\n",
    "# variáveis definidas no início para clareza\n",
    "\n",
    "terms = 100*1000*1000 # número de termos a serem usados na soma\n",
    "\n",
    "beta = 1/100.\n",
    "S = 0.0\n",
    "Z = 0.0\n",
    "\n",
    "# note o uso de um looping para calculo das duas somas e o exponencial calculado uma só vez\n",
    "for n in range(terms):\n",
    "    E = n + 0.5\n",
    "    weight = exp(-beta*E)\n",
    "    S += weight*E\n",
    "    Z += weight\n",
    "print(S/Z)\n",
    "\n",
    "print(\"tempo de execução de %s secundos\" % (time.time() - start_time))"
   ]
  },
  {
   "cell_type": "code",
   "execution_count": null,
   "metadata": {
    "collapsed": true
   },
   "outputs": [],
   "source": []
  }
 ],
 "metadata": {
  "kernelspec": {
   "display_name": "Python [Root]",
   "language": "python",
   "name": "Python [Root]"
  },
  "language_info": {
   "codemirror_mode": {
    "name": "ipython",
    "version": 2
   },
   "file_extension": ".py",
   "mimetype": "text/x-python",
   "name": "python",
   "nbconvert_exporter": "python",
   "pygments_lexer": "ipython2",
   "version": "2.7.12"
  }
 },
 "nbformat": 4,
 "nbformat_minor": 0
}
