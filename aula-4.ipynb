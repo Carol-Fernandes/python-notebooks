{
 "cells": [
  {
   "cell_type": "markdown",
   "metadata": {},
   "source": [
    "# Listas e arrays (vetores)\n",
    "\n",
    "até agora vimos variáveis que representam valores unicos de um dado tipo\n",
    "\n",
    "em física é comum querer representar vários numeros com um nome como $\\vec{r}=(x,y,z)$\n",
    "\n",
    "Outro exemplo seria uma tabela com milhares de valores medidos para uma dada grandeza $a_1,a_2,a_3$ de modo que possamos usar $A={a_i}$ onde i é iterado no total de elementos de $A$\n",
    "\n",
    "Python permite lidar com essas situações usando containers como listas e arrays, que são as mais importantes e tuples, dicionarios e conjuntos, que são menos comuns\n",
    "\n"
   ]
  },
  {
   "cell_type": "markdown",
   "metadata": {},
   "source": [
    "## Listas\n",
    "\n",
    "o tipo mais básico de container em Python é a lista\n",
    "\n",
    "uma lista é uma lista de quantidades, que não precisam ser do mesmo tipo\n",
    "\n",
    "Em física no entanto, em geral, usamos klista de elementos do mesmo tipo"
   ]
  },
  {
   "cell_type": "code",
   "execution_count": 3,
   "metadata": {
    "collapsed": false
   },
   "outputs": [
    {
     "name": "stdout",
     "output_type": "stream",
     "text": [
      "[2, 3.4, 'teste']\n",
      "[9.0, 8.3, 337.8645683867659, 32.5]\n"
     ]
    }
   ],
   "source": [
    "lista = [2, 3.4, 'teste']   # sintaxe para definir uma lista\n",
    "print lista\n",
    "\n",
    "x = 3.0\n",
    "y = 5.3\n",
    "\n",
    "lista = [x**2, x+y, x**y, 2*x+5*y]  # usando expressões para definir listas\n",
    "print lista"
   ]
  },
  {
   "cell_type": "markdown",
   "metadata": {},
   "source": [
    "tendo definido listas provavelmente vamos querer fazer operações com elas\n",
    "\n",
    "os elementos de uma lista podem ser recuperados pela sua posição de alocação\n",
    "\n",
    "considere a lista l=[3, 5, 2, 45, 23] onde temos os seguintes elementos individuais:\n",
    "\n",
    "l[0] é 3, l[1] é 5, l[2] é 2 e assim por diante\n",
    "\n",
    "note que a indexação se inicia em 0, ou seja, l[0] é o primeiro elemento da lista\n",
    "\n",
    "os elementos individuais funcionam como variáveis únicas"
   ]
  },
  {
   "cell_type": "code",
   "execution_count": 5,
   "metadata": {
    "collapsed": false
   },
   "outputs": [
    {
     "name": "stdout",
     "output_type": "stream",
     "text": [
      "2.84429253067\n",
      "[1.0, 3.5, -2.2]\n"
     ]
    }
   ],
   "source": [
    "from math import sqrt\n",
    "\n",
    "r = [1.0, 1.5, -2.2]\n",
    "tamanho = sqrt( r[0]**2 + r[1]**2 + r[2]**2 )   # calculando o módulo de um vetor\n",
    "print tamanho\n",
    "\n",
    "# podemos mudar o valor de elementos individuais na lista:\n",
    "r[1] = 3.5\n",
    "print r"
   ]
  },
  {
   "cell_type": "markdown",
   "metadata": {},
   "source": [
    "uma capacidade importante e poderosa em Python é a de poder fazer operações com listas\n",
    "\n",
    "Algumas usuais são: sum, max, min, len, mean"
   ]
  },
  {
   "cell_type": "code",
   "execution_count": 10,
   "metadata": {
    "collapsed": false
   },
   "outputs": [
    {
     "name": "stdout",
     "output_type": "stream",
     "text": [
      "0.3\n",
      "1.5 -2.2\n",
      "3\n",
      "0.1\n"
     ]
    }
   ],
   "source": [
    "r = [1.0, 1.5, -2.2]\n",
    "total = sum(r)           # essa função retorna a soma de todos os elementos da lista\n",
    "print total\n",
    "\n",
    "print max(r), min(r)     # maximo e minimo da lista r\n",
    "\n",
    "print len(r)            # tamanho da lista\n",
    "\n",
    "media = sum(r)/len(r)   # calculando a média\n",
    "print media"
   ]
  },
  {
   "cell_type": "markdown",
   "metadata": {},
   "source": [
    "Uma função especial em Python é a **map**. Ela permite aplicar funções a todos os elementos de uma lista\n",
    "\n"
   ]
  },
  {
   "cell_type": "code",
   "execution_count": 12,
   "metadata": {
    "collapsed": false
   },
   "outputs": [
    {
     "name": "stdout",
     "output_type": "stream",
     "text": [
      "[0.0, 0.4054651081081644, 0.7884573603642703] <type 'list'>\n"
     ]
    }
   ],
   "source": [
    "from math import log\n",
    "\n",
    "r = [1.0, 1.5, 2.2]\n",
    "\n",
    "logr = map(log, r)\n",
    "print logr, type(logr)"
   ]
  },
  {
   "cell_type": "markdown",
   "metadata": {},
   "source": [
    "outra possibilidade importante com listas em Python é a abilidade de adicionar ou remover elementos"
   ]
  },
  {
   "cell_type": "code",
   "execution_count": 2,
   "metadata": {
    "collapsed": false
   },
   "outputs": [
    {
     "name": "stdout",
     "output_type": "stream",
     "text": [
      "[1.0, 1.5, 2.2, 6.2]\n",
      "[1.0, 1.5, 2.2, 6.2, 7]\n"
     ]
    }
   ],
   "source": [
    "r = [1.0, 1.5, 2.2]\n",
    "r.append(6.2)\n",
    "print r\n",
    "\n",
    "x= 3\n",
    "r.append(2*x+1)\n",
    "print r"
   ]
  },
  {
   "cell_type": "markdown",
   "metadata": {},
   "source": [
    "pode-se criar uma lista vazia e ir adicionando elementos a medida que o programa evolui"
   ]
  },
  {
   "cell_type": "code",
   "execution_count": 17,
   "metadata": {
    "collapsed": false
   },
   "outputs": [
    {
     "name": "stdout",
     "output_type": "stream",
     "text": [
      "[0, 1, 2, 3, 4, 5, 6, 7, 8, 9]\n",
      "[0, 1, 2, 3, 4, 5, 6, 7, 8]\n",
      "[0, 1, 2, 4, 5, 6, 7, 8]\n"
     ]
    }
   ],
   "source": [
    "r=[]\n",
    "i = 0\n",
    "while i < 10:\n",
    "    r.append(i)\n",
    "    i += 1\n",
    "print r\n",
    "\n",
    "# removendo elementos\n",
    "r.pop()\n",
    "print r\n",
    "\n",
    "# removendo um elemento específico\n",
    "r.pop(3)\n",
    "print r"
   ]
  },
  {
   "cell_type": "markdown",
   "metadata": {},
   "source": [
    "## Arrays\n",
    "\n",
    "arrays são semelhantes a listas, mas existem diferenças importantes:\n",
    "\n",
    "1 - arrays tem tamanho fixo e não podem ser alterados depois de criados  \n",
    "2 - arrays tem que ter todos os elementos do mesmo tipo\n",
    "\n",
    "mas arrays tem vantagens: podem ser multidimensionais, se comportam como vetores, podemos fazer aritmética com eles ( o que não funciona com listas) e as operações com eles são mais rápidas em geral.\n",
    "\n",
    "antes de usar um array voce precisa cria-lo dizendo de que tipo será e com quantos elementos\n",
    "\n",
    "o modulo em Python usado para lidar com arrays é o **numpy**\n",
    "\n",
    "\n",
    "\n",
    "\n"
   ]
  },
  {
   "cell_type": "code",
   "execution_count": 4,
   "metadata": {
    "collapsed": false
   },
   "outputs": [
    {
     "name": "stdout",
     "output_type": "stream",
     "text": [
      "[ 0.  0.  0.  0.]\n"
     ]
    }
   ],
   "source": [
    "from numpy import zeros\n",
    "a = zeros(4,float)\n",
    "print a\n"
   ]
  },
  {
   "cell_type": "markdown",
   "metadata": {},
   "source": [
    "note que os arrays são impressos de modo distinto das listas, sem virgula separando os elementos\n",
    "\n"
   ]
  },
  {
   "cell_type": "code",
   "execution_count": 5,
   "metadata": {
    "collapsed": false
   },
   "outputs": [
    {
     "name": "stdout",
     "output_type": "stream",
     "text": [
      "[0 0 0 0 0 0 0 0 0 0]\n",
      "[ 0.+0.j  0.+0.j  0.+0.j  0.+0.j  0.+0.j  0.+0.j  0.+0.j  0.+0.j  0.+0.j\n",
      "  0.+0.j]\n",
      "['' '' '' '' '' '' '' '' '' '']\n"
     ]
    }
   ],
   "source": [
    "a = zeros(10,int)        # array de inteiros\n",
    "b = zeros(10,complex)    # array de complexos\n",
    "c = zeros(10,str)        # array de strings\n",
    "\n",
    "print a\n",
    "print b\n",
    "print c"
   ]
  },
  {
   "cell_type": "code",
   "execution_count": 6,
   "metadata": {
    "collapsed": false
   },
   "outputs": [
    {
     "name": "stdout",
     "output_type": "stream",
     "text": [
      "[[ 0.  0.  0.  0.]\n",
      " [ 0.  0.  0.  0.]\n",
      " [ 0.  0.  0.  0.]]\n",
      "[[0, 1], [2, 3]]\n"
     ]
    }
   ],
   "source": [
    "# criando arrays multi dimensionais\n",
    "\n",
    "a = zeros([3,4],float)      # array de dimensões 3 linhas x 4 colunas\n",
    "print a\n",
    "\n",
    "print [[0,1],[2,3]]"
   ]
  },
  {
   "cell_type": "markdown",
   "metadata": {},
   "source": [
    "outra maneira de se criar um array em **numpy** é usando a função array para converter uma lista:"
   ]
  },
  {
   "cell_type": "code",
   "execution_count": 11,
   "metadata": {
    "collapsed": false
   },
   "outputs": [
    {
     "name": "stdout",
     "output_type": "stream",
     "text": [
      "[ 1.   1.5 -2.2]\n",
      "[ 1.   1.5 -2.2]\n"
     ]
    }
   ],
   "source": [
    "from numpy import array\n",
    "\n",
    "r = [ 1.0, 1.5, -2.2 ]   # lista\n",
    "a = array(r,float)       # array\n",
    "print a\n",
    "\n",
    "# ou em uma unica linha:\n",
    "a = array([1.0,1.5,-2.2],float)\n",
    "print a"
   ]
  },
  {
   "cell_type": "markdown",
   "metadata": {},
   "source": [
    "podemos também criar arrays multidimensionais definindo seus elementos:"
   ]
  },
  {
   "cell_type": "code",
   "execution_count": 12,
   "metadata": {
    "collapsed": false
   },
   "outputs": [
    {
     "name": "stdout",
     "output_type": "stream",
     "text": [
      "[[1 2 3]\n",
      " [4 5 6]]\n"
     ]
    }
   ],
   "source": [
    "a = array([[1,2,3],[4,5,6]],int)\n",
    "print a\n"
   ]
  },
  {
   "cell_type": "markdown",
   "metadata": {},
   "source": [
    "a indexação funciona de maneira similar a listas"
   ]
  },
  {
   "cell_type": "code",
   "execution_count": 10,
   "metadata": {
    "collapsed": false
   },
   "outputs": [
    {
     "name": "stdout",
     "output_type": "stream",
     "text": [
      "[[0 0]\n",
      " [0 0]] \n",
      "\n",
      "[[ 0  1]\n",
      " [-1  0]]\n"
     ]
    }
   ],
   "source": [
    "# from numpy import zeros\n",
    "\n",
    "a = zeros([2,2],int)\n",
    "print a,'\\n'\n",
    "\n",
    "# mude o valor de alguns elementos\n",
    "a[0,1] = 1\n",
    "a[1,0] = -1\n",
    "\n",
    "print a\n"
   ]
  },
  {
   "cell_type": "markdown",
   "metadata": {},
   "source": [
    "## Aritimética com arrays\n",
    "\n",
    "com em listas, os elementos dos arrays funcionam como variaveis isoladas.\n",
    "\n",
    "poderíamos fazer algo como a[0] = a[1] + 1 com elemntos do array a\n",
    "\n",
    "ou algo como x = a[2]**2 - 2*a[3]/y\n",
    "\n",
    "uma das grandes vantagens em Python é fazer aritimética com todo o vetor de uma vez:\n",
    "\n"
   ]
  },
  {
   "cell_type": "code",
   "execution_count": 18,
   "metadata": {
    "collapsed": false
   },
   "outputs": [
    {
     "name": "stdout",
     "output_type": "stream",
     "text": [
      "[1 2 3 4] \n",
      "\n",
      "[2 4 6 8] \n",
      "\n",
      "[2 2 2 2]\n"
     ]
    }
   ],
   "source": [
    "from numpy import array\n",
    "\n",
    "a = array([1,2,3,4],int)\n",
    "b = 2*a\n",
    "\n",
    "print a, '\\n'\n",
    "print b, '\\n'\n",
    "print b/a       # em casos como esse os arrays tem que ter o memso tamanho!\n"
   ]
  },
  {
   "cell_type": "markdown",
   "metadata": {},
   "source": [
    "note que a multiplicação de arrays não funciona exatamente com em matemática, produto escalar de dois vetores:"
   ]
  },
  {
   "cell_type": "code",
   "execution_count": 19,
   "metadata": {
    "collapsed": false
   },
   "outputs": [
    {
     "name": "stdout",
     "output_type": "stream",
     "text": [
      "[ 2  8 18 32]\n"
     ]
    }
   ],
   "source": [
    "a = array([1,2,3,4],int)\n",
    "b = array([2,4,6,8],int)\n",
    "\n",
    "print a*b\n"
   ]
  },
  {
   "cell_type": "markdown",
   "metadata": {},
   "source": [
    "veja que o que aconteceu é que cada elemento foi multiplicado pelo seu correspondente no outro vetor\n",
    "\n",
    "Para fazer opeções de algebra linear como produto escalar o **numpy** tem funções específicas:"
   ]
  },
  {
   "cell_type": "code",
   "execution_count": 20,
   "metadata": {
    "collapsed": false
   },
   "outputs": [
    {
     "name": "stdout",
     "output_type": "stream",
     "text": [
      "60\n"
     ]
    }
   ],
   "source": [
    "from numpy import array,dot\n",
    "\n",
    "a = array([1,2,3,4],int)\n",
    "b = array([2,4,6,8],int)\n",
    "\n",
    "print dot(a,b)             # imprime o produto escalar de a e b\n"
   ]
  },
  {
   "cell_type": "markdown",
   "metadata": {},
   "source": [
    "operações com matrizes podem ser feitas de maneira simples.\n",
    "\n",
    "Seja a operação:\n",
    "    \n",
    "$\\left( \\begin{array}{cc} 1 & 3 \\\\ 2 & 4 \\end{array} \\right) \\left( \\begin{array}{cc} 4 & -2 \\\\ -3 & 1 \\end{array} \\right) + 2 \\left( \\begin{array}{cc} 1 & 2 \\\\ 2 & 1 \\end{array} \\right)  = \\left( \\begin{array}{cc} -3 & 5 \\\\ 0 & 2 \\end{array} \\right) $\n",
    "\n"
   ]
  },
  {
   "cell_type": "code",
   "execution_count": 21,
   "metadata": {
    "collapsed": false
   },
   "outputs": [
    {
     "name": "stdout",
     "output_type": "stream",
     "text": [
      "[[-3  5]\n",
      " [ 0  2]]\n"
     ]
    }
   ],
   "source": [
    "from numpy import array,dot\n",
    "\n",
    "a = array([[1,3],[2,4]],int)\n",
    "b = array([[4,-2],[-3,1]],int)\n",
    "c = array([[1,2],[2,1]],int)\n",
    "\n",
    "print dot(a,b)+2*c \n"
   ]
  },
  {
   "cell_type": "markdown",
   "metadata": {},
   "source": [
    "podemos mapear funções em arrays como foi feito com listas\n",
    "\n",
    "alguns cuidados devem ser tomados pois funções usuais como max, min len não dão resultados esperados quando aplicados em arrays multidimensionais"
   ]
  },
  {
   "cell_type": "code",
   "execution_count": 22,
   "metadata": {
    "collapsed": false
   },
   "outputs": [
    {
     "ename": "ValueError",
     "evalue": "The truth value of an array with more than one element is ambiguous. Use a.any() or a.all()",
     "output_type": "error",
     "traceback": [
      "\u001b[1;31m---------------------------------------------------------------------------\u001b[0m",
      "\u001b[1;31mValueError\u001b[0m                                Traceback (most recent call last)",
      "\u001b[1;32m<ipython-input-22-02d9c66e0431>\u001b[0m in \u001b[0;36m<module>\u001b[1;34m()\u001b[0m\n\u001b[0;32m      3\u001b[0m \u001b[0ma\u001b[0m \u001b[1;33m=\u001b[0m \u001b[0marray\u001b[0m\u001b[1;33m(\u001b[0m\u001b[1;33m[\u001b[0m\u001b[1;33m[\u001b[0m\u001b[1;36m1\u001b[0m\u001b[1;33m,\u001b[0m\u001b[1;36m3\u001b[0m\u001b[1;33m]\u001b[0m\u001b[1;33m,\u001b[0m\u001b[1;33m[\u001b[0m\u001b[1;36m2\u001b[0m\u001b[1;33m,\u001b[0m\u001b[1;36m4\u001b[0m\u001b[1;33m]\u001b[0m\u001b[1;33m]\u001b[0m\u001b[1;33m,\u001b[0m\u001b[0mint\u001b[0m\u001b[1;33m)\u001b[0m\u001b[1;33m\u001b[0m\u001b[0m\n\u001b[0;32m      4\u001b[0m \u001b[1;33m\u001b[0m\u001b[0m\n\u001b[1;32m----> 5\u001b[1;33m \u001b[1;32mprint\u001b[0m \u001b[0mmax\u001b[0m\u001b[1;33m(\u001b[0m\u001b[0ma\u001b[0m\u001b[1;33m)\u001b[0m\u001b[1;33m\u001b[0m\u001b[0m\n\u001b[0m",
      "\u001b[1;31mValueError\u001b[0m: The truth value of an array with more than one element is ambiguous. Use a.any() or a.all()"
     ]
    }
   ],
   "source": [
    "from numpy import array\n",
    "\n",
    "a = array([[1,3],[2,4]],int)\n",
    "\n",
    "print max(a)"
   ]
  },
  {
   "cell_type": "markdown",
   "metadata": {},
   "source": [
    "Mas **numpy** contem funções específicas para essas tarefas com arrays"
   ]
  },
  {
   "cell_type": "code",
   "execution_count": 26,
   "metadata": {
    "collapsed": false
   },
   "outputs": [
    {
     "name": "stdout",
     "output_type": "stream",
     "text": [
      "4\n",
      "(2, 2)\n",
      "\n",
      "\n",
      "4\n",
      "2.5\n"
     ]
    }
   ],
   "source": [
    "import numpy as np      # repare na outra forma de importar o numpy!\n",
    "\n",
    "a = array([[1,3],[2,4]],int)\n",
    "\n",
    "print a.size            # imprime o tamanho de a\n",
    "print a.shape           # imprime a forma de a\n",
    "print '\\n'\n",
    "print np.max(a)         # imprime o valor maximo em a\n",
    "print np.mean(a)        # imprime a média dos elementos de a"
   ]
  },
  {
   "cell_type": "markdown",
   "metadata": {},
   "source": [
    "## Exercício\n",
    "\n",
    "faça um programa para calcular a média geométrica de um conjunto de n valores\n",
    "\n",
    "$\\bar{x}=\\left[\\displaystyle\\prod_{i=1}^{n} x_i\\right]^{1/n}$ ou \n",
    "$\\bar{x} = exp \\left( \\frac{1}{n} \\displaystyle\\sum_{i=1}^{n} ln (x_i) \\right)$"
   ]
  },
  {
   "cell_type": "code",
   "execution_count": null,
   "metadata": {
    "collapsed": true
   },
   "outputs": [],
   "source": []
  }
 ],
 "metadata": {
  "kernelspec": {
   "display_name": "Python [Root]",
   "language": "python",
   "name": "Python [Root]"
  },
  "language_info": {
   "codemirror_mode": {
    "name": "ipython",
    "version": 2
   },
   "file_extension": ".py",
   "mimetype": "text/x-python",
   "name": "python",
   "nbconvert_exporter": "python",
   "pygments_lexer": "ipython2",
   "version": "2.7.12"
  }
 },
 "nbformat": 4,
 "nbformat_minor": 0
}
