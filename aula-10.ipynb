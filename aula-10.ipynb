{
 "cells": [
  {
   "cell_type": "markdown",
   "metadata": {},
   "source": [
    "# Sistemas lineares\n",
    "\n",
    "Um sistema linear é um conjunto de duas ou mais equações lineares envolvendo as mesmas variáveis.\n",
    "\n",
    "Por exemplo:\n",
    "\n",
    "$${\\begin{alignedat}{7}3x&&\\;+\\;&&2y&&\\;-\\;&&z&&\\;=\\;&&1&\\\\2x&&\\;-\\;&&2y&&\\;+\\;&&4z&&\\;=\\;&&-2&\\\\-x&&\\;+\\;&&{\\tfrac {1}{2}}y&&\\;-\\;&&z&&\\;=\\;&&0&\\end{alignedat}}$$\n",
    "\n",
    "A solução para este sistema é:\n",
    "\n",
    "$$ {\\begin{alignedat}{2}x&\\,=\\,&1\\\\y&\\,=\\,&-2\\\\z&\\,=\\,&-2\\end{alignedat}} $$\n",
    "\n",
    "que satisfaz a todas as equações simultaneamente. A algebra linear é o campo da matemática que estuda estes sistemas.\n",
    "\n",
    "Na sua forma geral temos:\n",
    "\n",
    "\n",
    "$$ {\\displaystyle {\\begin{aligned}a_{11}x_{1}&+a_{12}x_{2}+\\cdots +a_{1n}x_{n}=b_{1}\\\\a_{21}x_{1}&+a_{22}x_{2}+\\cdots +a_{2n}x_{n}=b_{2}\\\\\\vdots &\\\\a_{m1}x_{1}&+a_{m2}x_{2}+\\cdots +a_{mn}x_{n}=b_{m},\\end{aligned}}} $$\n",
    "\n",
    "Usando notação vetorial também pode-se escrever:\n",
    "\n",
    "\n",
    "$$x_{1}{\\begin{bmatrix}a_{11}\\\\a_{21}\\\\\\vdots \\\\a_{m1}\\end{bmatrix}}+x_{2}{\\begin{bmatrix}a_{12}\\\\a_{22}\\\\\\vdots \\\\a_{m2}\\end{bmatrix}}+\\cdots +x_{n}{\\begin{bmatrix}a_{1n}\\\\a_{2n}\\\\\\vdots \\\\a_{mn}\\end{bmatrix}}={\\begin{bmatrix}b_{1}\\\\b_{2}\\\\\\vdots \\\\b_{m}\\end{bmatrix}}$$\n",
    "\n",
    "\n",
    "ou em notação matricial:\n",
    "\n",
    "$$A{\\mathbf {x}} = {\\mathbf {b}}$$\n",
    "\n",
    "$$A={\\begin{bmatrix}a_{11}&a_{12}&\\cdots &a_{1n}\\\\a_{21}&a_{22}&\\cdots &a_{2n}\\\\\\vdots &\\vdots &\\ddots &\\vdots \\\\a_{m1}&a_{m2}&\\cdots &a_{mn}\\end{bmatrix}},\\quad {\\mathbf {x}}={\\begin{bmatrix}x_{1}\\\\x_{2}\\\\\\vdots \\\\x_{n}\\end{bmatrix}},\\quad {\\mathbf {b}}={\\begin{bmatrix}b_{1}\\\\b_{2}\\\\\\vdots \\\\b_{m}\\end{bmatrix}}$$\n",
    "\n",
    "A notação matricial é util e nos mostra que a solução pode ser obtida de:\n",
    "\n",
    "$${\\mathbf {x}} = A^{-1}{\\mathbf {b}}$$\n",
    "\n",
    "ou seja, através da obtenção da matriz inversa de $A$. No entanto, computacionalmente, inversão de matrizes é uma operação em geral custosa e ineficiente.\n",
    "\n",
    "Para uma discussão dos tipos de sistemas assim como alguns métodos de solução veja:\n",
    "\n",
    "https://en.wikipedia.org/wiki/System_of_linear_equations"
   ]
  },
  {
   "cell_type": "markdown",
   "metadata": {},
   "source": [
    "## Método de eliminação de Gauss\n",
    "\n",
    "Consiste basicamente na obtenção da matriz escalonada de A a partir de operações elementares.\n",
    "\n",
    "A matriz escalonada tem a forma:\n",
    "\n",
    "$$\\left[{\\begin{array}{rrrr}2&-3&2&1\\\\0&1&-4&8\\\\0&0&0&35\\end{array}}\\right]$$\n",
    "\n",
    "As operações básicas que podem ser aplicadas a matriz, sem alterar a solução são:\n",
    "\n",
    "- Somar a uma linha um múltiplo de outra linha.\n",
    "- Trocar duas linhas entre si.\n",
    "- Multiplicar todos os elementos de uma linha por uma constante não-nula.\n",
    "\n",
    "Para uma aplicação passo a passo do método veja:\n",
    "\n",
    "https://pt.wikipedia.org/wiki/Elimina%C3%A7%C3%A3o_de_Gauss\n",
    "\n",
    "O Numpy e o Scipy tem pacotes específicos para a solução de sistemas lineares. \n",
    "\n",
    "A função usada é a solve (https://docs.scipy.org/doc/numpy-1.13.0/reference/generated/numpy.linalg.solve.html) que se encontra no pacote de funções de algebra linear do Numpy. O pacote de algebra linear do numpy contém inumeras funções para realização de operações com vetores e matrizes. Para uma lista e exemplos veja:\n",
    "\n",
    "https://docs.scipy.org/doc/numpy-1.13.0/reference/routines.linalg.html\n",
    "\n",
    "O pacote Scipy também contém um pacote de funções para realizar operações com algebra linear. Algumas funções adicionais como a decomposição LU podem ser encontradas aqui:\n",
    "\n",
    "https://docs.scipy.org/doc/scipy-0.14.0/reference/linalg.html\n"
   ]
  },
  {
   "cell_type": "code",
   "execution_count": 5,
   "metadata": {
    "collapsed": false
   },
   "outputs": [
    {
     "name": "stdout",
     "output_type": "stream",
     "text": [
      "---------------------------\n",
      "[[ 1.   0.5  2.   0.5]\n",
      " [ 0.   2.5 -7.  -2.5]\n",
      " [ 1.  -4.   1.   5. ]\n",
      " [ 2.  -2.   1.   3. ]]\n",
      "[-2.  9.  9.  7.]\n",
      "\n",
      "---------------------------\n",
      "[[ 1.   0.5  2.   0.5]\n",
      " [ 0.   2.5 -7.  -2.5]\n",
      " [ 0.  -4.5 -1.   4.5]\n",
      " [ 2.  -2.   1.   3. ]]\n",
      "[ -2.   9.  11.   7.]\n",
      "\n",
      "---------------------------\n",
      "[[ 1.   0.5  2.   0.5]\n",
      " [ 0.   2.5 -7.  -2.5]\n",
      " [ 0.  -4.5 -1.   4.5]\n",
      " [ 0.  -3.  -3.   2. ]]\n",
      "[ -2.   9.  11.  11.]\n",
      "\n",
      "---------------------------\n",
      "[[  1.    0.5   2.    0.5]\n",
      " [  0.    1.   -2.8  -1. ]\n",
      " [  0.    0.  -13.6   0. ]\n",
      " [  0.   -3.   -3.    2. ]]\n",
      "[ -2.    3.6  27.2  11. ]\n",
      "\n",
      "---------------------------\n",
      "[[  1.    0.5   2.    0.5]\n",
      " [  0.    1.   -2.8  -1. ]\n",
      " [  0.    0.  -13.6   0. ]\n",
      " [  0.    0.  -11.4  -1. ]]\n",
      "[ -2.    3.6  27.2  21.8]\n",
      "\n",
      "---------------------------\n",
      "[[ 1.   0.5  2.   0.5]\n",
      " [ 0.   1.  -2.8 -1. ]\n",
      " [-0.  -0.   1.  -0. ]\n",
      " [ 0.   0.   0.  -1. ]]\n",
      "[-2.   3.6 -2.  -1. ]\n",
      "\n",
      "a solução é:  [ 2. -1. -2.  1.]\n",
      "[ 2. -1. -2.  1.]\n",
      "\n",
      "a solução com modulo solve é:  [ 2. -1. -2.  1.]\n"
     ]
    }
   ],
   "source": [
    "import numpy as np\n",
    "\n",
    "A = np.array([[2,1,4,1],\n",
    "             [3,4,-1,-1],\n",
    "             [1,-4,1,5],\n",
    "             [2,-2,1,3]],float)\n",
    "\n",
    "v = np.array([-4,3,9,7],float)\n",
    "N = len(v)\n",
    "\n",
    "# Eliminação de Gauss\n",
    "\n",
    "for m in range(N):\n",
    "    \n",
    "    #divide pelo elemento da diagonal\n",
    "    div = A[m,m]\n",
    "    A[m,:] = A[m,:]/div\n",
    "    v[m] = v[m]/div\n",
    "    \n",
    "    # subtrair das linhas seguintes\n",
    "    for i in range(m+1,N):\n",
    "        mult = A[i,m]\n",
    "        A[i,:] = A[i,:] - mult*A[m,:]\n",
    "        v[i] = v[i] - mult*v[m]\n",
    "        \n",
    "        print '---------------------------'\n",
    "        print A\n",
    "        print v\n",
    "        print ''\n",
    "        \n",
    "# recorrencia para obter solução\n",
    "\n",
    "x = np.zeros(N,float)\n",
    "\n",
    "for m in range(N-1,-1,-1):\n",
    "    x[m] = v[m]\n",
    "    for i in range(m+1,N):\n",
    "        x[m] = x[m] - A[m,i]*x[i]\n",
    "        \n",
    "print \"a solução é: \", x\n",
    "\n",
    "# usando os modulos do numpy\n",
    "\n",
    "print np.linalg.solve(A,v)\n",
    "print ''\n",
    "print \"a solução com modulo solve é: \", x"
   ]
  },
  {
   "cell_type": "code",
   "execution_count": 8,
   "metadata": {
    "collapsed": false
   },
   "outputs": [
    {
     "name": "stdout",
     "output_type": "stream",
     "text": [
      "Solutions:\n",
      "[  6.  15. -23.]\n",
      " \n",
      "[[ 1.  0.  0.]\n",
      " [ 0.  1.  0.]\n",
      " [ 0.  0.  1.]]\n",
      " \n",
      "[[ 1.   0.   0. ]\n",
      " [ 0.5  1.   0. ]\n",
      " [ 0.5 -0.2  1. ]]\n",
      " \n",
      "[[ 2.   1.   1. ]\n",
      " [ 0.   2.5  1.5]\n",
      " [ 0.   0.  -0.2]]\n"
     ]
    }
   ],
   "source": [
    "#Solução de sistemas lineares usando Scipy e decomposição LU\n",
    "\n",
    "import scipy.linalg as linalg \n",
    "import numpy as np \n",
    "\n",
    "#define A \n",
    "A = np.array([[2., 1., 1.], [1., 3., 2.], [1., 0., 0.]]) \n",
    "#define B \n",
    "B = np.array([4., 5., 6.]) \n",
    "\n",
    "#call the lu_factor function \n",
    "LU = linalg.lu_factor(A) \n",
    "\n",
    "#solve given LU and B \n",
    "x = linalg.lu_solve(LU, B) \n",
    "\n",
    "print \"Solutions:\\n\",x \n",
    "print ' '\n",
    "\n",
    "# vamos ver o que foi feito com a matriz original\n",
    "P, L, U = linalg.lu(A) \n",
    "print P \n",
    "print ' '\n",
    "print L \n",
    "print ' '\n",
    "print U \n"
   ]
  },
  {
   "cell_type": "code",
   "execution_count": 7,
   "metadata": {
    "collapsed": false
   },
   "outputs": [
    {
     "name": "stdout",
     "output_type": "stream",
     "text": [
      "1.00000000000000000000\n"
     ]
    }
   ],
   "source": [
    "print \"%10.20f\"% A[2,0]"
   ]
  },
  {
   "cell_type": "code",
   "execution_count": null,
   "metadata": {
    "collapsed": true
   },
   "outputs": [],
   "source": []
  }
 ],
 "metadata": {
  "anaconda-cloud": {},
  "kernelspec": {
   "display_name": "Python [conda env:astroconda]",
   "language": "python",
   "name": "conda-env-astroconda-py"
  },
  "language_info": {
   "codemirror_mode": {
    "name": "ipython",
    "version": 2
   },
   "file_extension": ".py",
   "mimetype": "text/x-python",
   "name": "python",
   "nbconvert_exporter": "python",
   "pygments_lexer": "ipython2",
   "version": "2.7.12"
  }
 },
 "nbformat": 4,
 "nbformat_minor": 1
}
