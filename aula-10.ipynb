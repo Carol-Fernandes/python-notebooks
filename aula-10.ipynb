{
 "cells": [
  {
   "cell_type": "markdown",
   "metadata": {},
   "source": [
    "# Sistemas lineares\n",
    "\n",
    "$$x_{1}{\\begin{bmatrix}a_{11}\\\\a_{21}\\\\\\vdots \\\\a_{m1}\\end{bmatrix}}+x_{2}{\\begin{bmatrix}a_{12}\\\\a_{22}\\\\\\vdots \\\\a_{m2}\\end{bmatrix}}+\\cdots +x_{n}{\\begin{bmatrix}a_{1n}\\\\a_{2n}\\\\\\vdots \\\\a_{mn}\\end{bmatrix}}={\\begin{bmatrix}b_{1}\\\\b_{2}\\\\\\vdots \\\\b_{m}\\end{bmatrix}}$$\n",
    "\n",
    "\n",
    "$$A={\\begin{bmatrix}a_{11}&a_{12}&\\cdots &a_{1n}\\\\a_{21}&a_{22}&\\cdots &a_{2n}\\\\\\vdots &\\vdots &\\ddots &\\vdots \\\\a_{m1}&a_{m2}&\\cdots &a_{mn}\\end{bmatrix}},\\quad {\\mathbf {x}}={\\begin{bmatrix}x_{1}\\\\x_{2}\\\\\\vdots \\\\x_{n}\\end{bmatrix}},\\quad {\\mathbf {b}}={\\begin{bmatrix}b_{1}\\\\b_{2}\\\\\\vdots \\\\b_{m}\\end{bmatrix}}$$\n",
    "\n",
    "ou em notação matricial:\n",
    "\n",
    "$$A{\\mathbf {x}} = {\\mathbf {b}}$$"
   ]
  },
  {
   "cell_type": "code",
   "execution_count": 1,
   "metadata": {
    "collapsed": false
   },
   "outputs": [
    {
     "name": "stdout",
     "output_type": "stream",
     "text": [
      "---------------------------\n",
      "[[ 1.   0.5  2.   0.5]\n",
      " [ 0.   2.5 -7.  -2.5]\n",
      " [ 1.  -4.   1.   5. ]\n",
      " [ 2.  -2.   1.   3. ]]\n",
      "[-2.  9.  9.  7.]\n",
      "\n",
      "---------------------------\n",
      "[[ 1.   0.5  2.   0.5]\n",
      " [ 0.   2.5 -7.  -2.5]\n",
      " [ 0.  -4.5 -1.   4.5]\n",
      " [ 2.  -2.   1.   3. ]]\n",
      "[ -2.   9.  11.   7.]\n",
      "\n",
      "---------------------------\n",
      "[[ 1.   0.5  2.   0.5]\n",
      " [ 0.   2.5 -7.  -2.5]\n",
      " [ 0.  -4.5 -1.   4.5]\n",
      " [ 0.  -3.  -3.   2. ]]\n",
      "[ -2.   9.  11.  11.]\n",
      "\n",
      "---------------------------\n",
      "[[  1.    0.5   2.    0.5]\n",
      " [  0.    1.   -2.8  -1. ]\n",
      " [  0.    0.  -13.6   0. ]\n",
      " [  0.   -3.   -3.    2. ]]\n",
      "[ -2.    3.6  27.2  11. ]\n",
      "\n",
      "---------------------------\n",
      "[[  1.    0.5   2.    0.5]\n",
      " [  0.    1.   -2.8  -1. ]\n",
      " [  0.    0.  -13.6   0. ]\n",
      " [  0.    0.  -11.4  -1. ]]\n",
      "[ -2.    3.6  27.2  21.8]\n",
      "\n",
      "---------------------------\n",
      "[[ 1.   0.5  2.   0.5]\n",
      " [ 0.   1.  -2.8 -1. ]\n",
      " [-0.  -0.   1.  -0. ]\n",
      " [ 0.   0.   0.  -1. ]]\n",
      "[-2.   3.6 -2.  -1. ]\n",
      "\n",
      "a solução é:  [ 2. -1. -2.  1.]\n",
      "[ 2. -1. -2.  1.]\n",
      "\n",
      "a solução com modulo solve é:  [ 2. -1. -2.  1.]\n"
     ]
    }
   ],
   "source": [
    "import numpy as np\n",
    "\n",
    "A = np.array([[2,1,4,1],\n",
    "             [3,4,-1,-1],\n",
    "             [1,-4,1,5],\n",
    "             [2,-2,1,3]],float)\n",
    "\n",
    "v = np.array([-4,3,9,7],float)\n",
    "N = len(v)\n",
    "\n",
    "# Eliminação de Gauss\n",
    "\n",
    "for m in range(N):\n",
    "    \n",
    "    #divide pelo elemento da diagonal\n",
    "    div = A[m,m]\n",
    "    A[m,:] = A[m,:]/div\n",
    "    v[m] = v[m]/div\n",
    "    \n",
    "    # subtrair das linhas seguintes\n",
    "    for i in range(m+1,N):\n",
    "        mult = A[i,m]\n",
    "        A[i,:] = A[i,:] - mult*A[m,:]\n",
    "        v[i] = v[i] - mult*v[m]\n",
    "        \n",
    "        print '---------------------------'\n",
    "        print A\n",
    "        print v\n",
    "        print ''\n",
    "        \n",
    "# recorrencia para obter solução\n",
    "\n",
    "x = np.zeros(N,float)\n",
    "\n",
    "for m in range(N-1,-1,-1):\n",
    "    x[m] = v[m]\n",
    "    for i in range(m+1,N):\n",
    "        x[m] = x[m] - A[m,i]*x[i]\n",
    "        \n",
    "print \"a solução é: \", x\n",
    "\n",
    "# usando os modulos do numpy\n",
    "\n",
    "print np.linalg.solve(A,v)\n",
    "print ''\n",
    "print \"a solução com modulo solve é: \", x"
   ]
  },
  {
   "cell_type": "code",
   "execution_count": 8,
   "metadata": {
    "collapsed": false
   },
   "outputs": [
    {
     "name": "stdout",
     "output_type": "stream",
     "text": [
      "[[ 1.   0.5  2.   0.5]\n",
      " [ 0.   1.  -2.8 -1. ]\n",
      " [-0.  -0.   1.  -0. ]\n",
      " [-0.  -0.  -0.   1. ]]\n"
     ]
    }
   ],
   "source": [
    "print A"
   ]
  },
  {
   "cell_type": "code",
   "execution_count": 20,
   "metadata": {
    "collapsed": false
   },
   "outputs": [
    {
     "name": "stdout",
     "output_type": "stream",
     "text": [
      "-0.00000000000000000000\n"
     ]
    }
   ],
   "source": [
    "print \"%10.20f\"% A[2,0]"
   ]
  },
  {
   "cell_type": "code",
   "execution_count": null,
   "metadata": {
    "collapsed": true
   },
   "outputs": [],
   "source": []
  }
 ],
 "metadata": {
  "kernelspec": {
   "display_name": "Python [conda env:astroconda]",
   "language": "python",
   "name": "conda-env-astroconda-py"
  },
  "language_info": {
   "codemirror_mode": {
    "name": "ipython",
    "version": 2
   },
   "file_extension": ".py",
   "mimetype": "text/x-python",
   "name": "python",
   "nbconvert_exporter": "python",
   "pygments_lexer": "ipython2",
   "version": "2.7.12"
  }
 },
 "nbformat": 4,
 "nbformat_minor": 1
}
