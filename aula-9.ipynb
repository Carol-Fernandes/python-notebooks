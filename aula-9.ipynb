{
 "cells": [
  {
   "cell_type": "markdown",
   "metadata": {},
   "source": [
    "# Derivadas numéricas\n",
    "\n",
    "\n",
    "O método mais simples é o de diferenças finitas:\n",
    "\n",
    "$$f'(x) \\approx {f(x+h)-f(x) \\over h}$$ \n",
    "foward diference\n",
    "\n",
    "$$f'(x) \\approx {f(x)-f(x-h) \\over h}$$ \n",
    "backward diference\n",
    "\n",
    "$$f'(x) \\approx {f(x+h)-f(x-h) \\over 2h}$$ \n",
    "symmetric diference\n",
    "\n",
    "O erro não incluindo erros de arredondamento devido a precisão da máquina usada nos cálculos é:\n",
    "\n",
    "$$R={{-f^{{(3)}}(c)} \\over {6}}h^{2}$$"
   ]
  },
  {
   "cell_type": "code",
   "execution_count": 11,
   "metadata": {
    "collapsed": false
   },
   "outputs": [
    {
     "data": {
      "image/png": "[encoded data removed]",
      "text/plain": [
       "<matplotlib.figure.Figure at 0x7fb400204d50>"
      ]
     },
     "metadata": {},
     "output_type": "display_data"
    }
   ],
   "source": [
    "%matplotlib inline\n",
    "\n",
    "import numpy as np\n",
    "import matplotlib.pyplot as plt\n",
    "\n",
    "def f(x):\n",
    "    return -(0.1*x**4)-(0.15*x**3)-(0.5*x**2)-(0.25*x)+1.2\n",
    "    #return np.sin(x)\n",
    "\n",
    "def df(x):\n",
    "    return (-0.4*x**3)-(0.45*x**2)-(1.0*x)-0.25\n",
    "    #return np.cos(x)\n",
    "\n",
    "x = 0.5\n",
    "n = 10\n",
    "\n",
    "h = np.zeros(n,float)\n",
    "err = np.zeros(n,float)\n",
    "\n",
    "for i in range(n):\n",
    "    h[i] = float(10**(-i))\n",
    "    dfnum = (f(x+h[i])-f(x-h[i]))/(2*h[i])\n",
    "    dftrue = df(x)\n",
    "    err[i] = np.abs(dfnum-dftrue)\n",
    "    \n",
    "plt.loglog(h,err)\n",
    "plt.show()\n",
    "    "
   ]
  },
  {
   "cell_type": "code",
   "execution_count": null,
   "metadata": {
    "collapsed": false
   },
   "outputs": [],
   "source": [
    "\n"
   ]
  },
  {
   "cell_type": "code",
   "execution_count": null,
   "metadata": {
    "collapsed": true
   },
   "outputs": [],
   "source": []
  }
 ],
 "metadata": {
  "kernelspec": {
   "display_name": "Python 2",
   "language": "python",
   "name": "python2"
  },
  "language_info": {
   "codemirror_mode": {
    "name": "ipython",
    "version": 2
   },
   "file_extension": ".py",
   "mimetype": "text/x-python",
   "name": "python",
   "nbconvert_exporter": "python",
   "pygments_lexer": "ipython2",
   "version": "2.7.11"
  }
 },
 "nbformat": 4,
 "nbformat_minor": 0
}
